{
 "cells": [
  {
   "cell_type": "code",
   "execution_count": 1,
   "id": "85d24c2e",
   "metadata": {},
   "outputs": [
    {
     "name": "stdout",
     "output_type": "stream",
     "text": [
      "Starting Spark application\n"
     ]
    },
    {
     "data": {
      "text/html": [
       "<table>\n",
       "<tr><th>ID</th><th>Application ID</th><th>Kind</th><th>State</th><th>Spark UI</th><th>Driver log</th></tr><tr><td>3</td><td>application_1707759051297_0004</td><td>pyspark</td><td>idle</td><td><a target=\"_blank\" href=\"/hopsworks-api/yarnui/https://hopsworks0.logicalclocks.com:8089/proxy/application_1707759051297_0004/\">Link</a></td><td><a target=\"_blank\" href=\"/hopsworks-api/yarnui/https://hopsworks0.logicalclocks.com:8044/node/containerlogs/container_1707759051297_0004_01_000001/qwerty__meb10000\">Link</a></td></tr></table>"
      ],
      "text/plain": [
       "<IPython.core.display.HTML object>"
      ]
     },
     "metadata": {},
     "output_type": "display_data"
    },
    {
     "name": "stdout",
     "output_type": "stream",
     "text": [
      "SparkSession available as 'spark'.\n",
      "Connected. Call `.close()` to terminate connection gracefully.\n",
      "\n",
      "Logged in to project, explore it here https://hopsworks0.logicalclocks.com/p/119\n",
      "Connected. Call `.close()` to terminate connection gracefully."
     ]
    }
   ],
   "source": [
    "import hsfs\n",
    "from hsfs import engine\n",
    "import json\n",
    "\n",
    "import hopsworks\n",
    "\n",
    "# connect to hopsworks\n",
    "project = hopsworks.login()\n",
    "fs = project.get_feature_store()\n",
    "\n"
   ]
  },
  {
   "cell_type": "code",
   "execution_count": 2,
   "id": "1b531fba",
   "metadata": {},
   "outputs": [],
   "source": [
    "\n",
    "smartwatch_fg = fs.get_or_create_feature_group(\n",
    "    name=\"smartwatch_sensor\",\n",
    "    version=1,\n",
    "    description=\"heart rate ppg\",\n",
    "    primary_key=['index'],\n",
    "    stream=True,\n",
    "    online_enabled=True\n",
    ")"
   ]
  },
  {
   "cell_type": "code",
   "execution_count": 3,
   "id": "367eec4e",
   "metadata": {},
   "outputs": [
    {
     "name": "stdout",
     "output_type": "stream",
     "text": [
      "{'kafka.sasl.jaas.config': \"org.apache.kafka.common.security.plain.PlainLoginModule required username='7T3PK6VD5536CRZT' password='8g3AylQQHno81xAmJPQIvdICWJsw19i6QCtZM9sCTz9BUj4y/+rxfSM7CQUePaJT';\", 'kafka.sasl.mechanism': 'PLAIN', 'kafka.startingOffsets': 'earliest', 'kafka.bootstrap.servers': 'pkc-l7q2j.europe-north1.gcp.confluent.cloud:9092', 'kafka.security.protocol': 'SASL_SSL', 'kafka.ssl.endpoint.identification.algorithm': ''}"
     ]
    }
   ],
   "source": [
    "connector = fs.get_storage_connector(\"dj_kafka\")\n",
    "\n",
    "config = connector.spark_options()\n",
    "config"
   ]
  },
  {
   "cell_type": "code",
   "execution_count": 4,
   "id": "0b9d3dbb",
   "metadata": {},
   "outputs": [],
   "source": [
    "# create kafka topic\n",
    "KAFKA_TOPIC_NAME = \"topic_smartwatch_data\"\n",
    "\n",
    "df_read = spark \\\n",
    "    .readStream \\\n",
    "    .format(\"kafka\") \\\n",
    "    .options(**config) \\\n",
    "    .option(\"startingOffsets\", \"earliest\") \\\n",
    "    .option(\"subscribe\", KAFKA_TOPIC_NAME) \\\n",
    "    .load()"
   ]
  },
  {
   "cell_type": "code",
   "execution_count": 5,
   "id": "c1792b83",
   "metadata": {},
   "outputs": [],
   "source": [
    "from pyspark.sql.types import (\n",
    "    LongType,\n",
    "    DoubleType,\n",
    "    StringType,\n",
    "    TimestampType,\n",
    "    StructType,\n",
    "    BooleanType,\n",
    "    StructField,\n",
    "    IntegerType\n",
    ")\n",
    "\n",
    "from pyspark.sql.functions import from_json\n",
    "\n",
    "parse_schema = StructType([StructField('index', IntegerType(), True),\n",
    "                           StructField('ppg', LongType(), True),\n",
    "                           StructField('timer', StringType(), True)\n",
    "                           ])\n"
   ]
  },
  {
   "cell_type": "code",
   "execution_count": 6,
   "id": "d1c296b0",
   "metadata": {},
   "outputs": [
    {
     "name": "stdout",
     "output_type": "stream",
     "text": [
      "DataFrame[key: binary, value: binary, topic: string, partition: int, offset: bigint, timestamp: timestamp, timestampType: int]"
     ]
    }
   ],
   "source": [
    "df_read"
   ]
  },
  {
   "cell_type": "code",
   "execution_count": 7,
   "id": "eba20d9e",
   "metadata": {},
   "outputs": [],
   "source": [
    "transaction_streaming_df = df_read.selectExpr(\"CAST(value AS STRING)\") \\\n",
    "     .select(from_json(\"value\", parse_schema).alias(\"value\")) \\\n",
    "     .select(\"value.ppg\", \"value.timer\",\"value.index\") \\\n",
    "     .selectExpr(\"CAST(ppg as long)\", \"CAST(timer as string)\",\"CAST(index as int)\" )"
   ]
  },
  {
   "cell_type": "code",
   "execution_count": 8,
   "id": "c47918a8",
   "metadata": {},
   "outputs": [
    {
     "name": "stdout",
     "output_type": "stream",
     "text": [
      "DataFrame[ppg: bigint, timer: string, index: int]"
     ]
    }
   ],
   "source": [
    "transaction_streaming_df"
   ]
  },
  {
   "cell_type": "code",
   "execution_count": 10,
   "id": "e16ad464",
   "metadata": {},
   "outputs": [
    {
     "name": "stdout",
     "output_type": "stream",
     "text": [
      "Feature Group created successfully, explore it at \n",
      "https://hopsworks0.logicalclocks.com/p/119/fs/67/fg/19\n",
      "StatisticsWarning: Stream ingestion for feature group `smartwatch_sensor`, with version `1` will not compute statistics."
     ]
    }
   ],
   "source": [
    "q = smartwatch_fg.insert_stream(transaction_streaming_df)"
   ]
  },
  {
   "cell_type": "code",
   "execution_count": 31,
   "id": "9f4dba7d",
   "metadata": {},
   "outputs": [
    {
     "name": "stdout",
     "output_type": "stream",
     "text": [
      "{'message': 'Getting offsets from KafkaV2[Subscribe[topic_smartwatch_data]]', 'isDataAvailable': False, 'isTriggerActive': True}"
     ]
    }
   ],
   "source": [
    "q.status"
   ]
  },
  {
   "cell_type": "code",
   "execution_count": 33,
   "id": "48e541fe",
   "metadata": {},
   "outputs": [
    {
     "name": "stdout",
     "output_type": "stream",
     "text": [
      "100000"
     ]
    }
   ],
   "source": [
    "rows = smartwatch_fg.read(online=True)\n",
    "rows.count()\n"
   ]
  },
  {
   "cell_type": "code",
   "execution_count": null,
   "id": "976f66b0",
   "metadata": {},
   "outputs": [],
   "source": []
  }
 ],
 "metadata": {
  "kernelspec": {
   "display_name": "PySpark",
   "language": "python",
   "name": "pysparkkernel"
  },
  "language_info": {
   "codemirror_mode": {
    "name": "python",
    "version": 3
   },
   "mimetype": "text/x-python",
   "name": "pyspark",
   "pygments_lexer": "python3"
  }
 },
 "nbformat": 4,
 "nbformat_minor": 5
}
