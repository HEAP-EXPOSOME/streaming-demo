{
 "cells": [
  {
   "cell_type": "code",
   "execution_count": null,
   "id": "7e5319b4",
   "metadata": {},
   "outputs": [],
   "source": [
    "import datetime\n",
    "import json\n",
    "from time import sleep\n",
    "from confluent_kafka import Producer\n",
    "import pandas as pd\n",
    "\n"
   ]
  },
  {
   "cell_type": "code",
   "execution_count": null,
   "id": "0272206b",
   "metadata": {},
   "outputs": [],
   "source": [
    "def read_ccloud_config(config_file):\n",
    "    omitted_fields = set(['schema.registry.url', 'basic.auth.credentials.source', 'basic.auth.user.info'])\n",
    "    conf = {}\n",
    "    with open(config_file) as fh:\n",
    "        for line in fh:\n",
    "            line = line.strip()\n",
    "            if len(line) != 0 and line[0] != \"#\":\n",
    "                parameter, value = line.strip().split('=', 1)\n",
    "                if parameter not in omitted_fields:\n",
    "                    conf[parameter] = value.strip()\n",
    "    return conf\n",
    "\n",
    "\n",
    "producer = Producer(read_ccloud_config(\"client.properties\"))"
   ]
  },
  {
   "cell_type": "code",
   "execution_count": null,
   "id": "ac9e914e",
   "metadata": {},
   "outputs": [],
   "source": [
    "\n",
    "# topic schema\n",
    "\n",
    "schema = {\n",
    "  \"doc\": \"Sample schema to help you get started.\",\n",
    "  \"fields\": [\n",
    "    {\n",
    "      \"doc\": \"The int type is a 32-bit signed integer.\",\n",
    "      \"name\": \"ppg\",\n",
    "      \"type\": \"int\"\n",
    "    },\n",
    "    {\n",
    "      \"doc\": \"timer timestamp.\",\n",
    "      \"logicalType\": \"timestamp-micros\",\n",
    "      \"name\": \"timer\",\n",
    "      \"type\": \"string\"\n",
    "    },\n",
    "    {\n",
    "      \"doc\": \"ID\",\n",
    "      \"name\": \"index\",\n",
    "      \"type\": \"int\"\n",
    "    }\n",
    "  ],\n",
    "  \"name\": \"sampleRecord_heartrate\",\n",
    "  \"namespace\": \"sample_heart_rate\",\n",
    "  \"type\": \"record\"\n",
    "}"
   ]
  },
  {
   "cell_type": "code",
   "execution_count": null,
   "id": "6ab94e8c",
   "metadata": {},
   "outputs": [],
   "source": [
    "DATASET = 'raw_ppg.csv'\n",
    "TOPIC = 'topic_ppg'\n",
    "\n",
    "df = pd.read_csv(DATASET,encoding='unicode_escape')\n",
    "\n",
    "\n",
    "# iterate df for 10 rows and convert the row to json\n",
    "for index, row in df.iterrows():\n",
    "    row_json = row.to_dict()\n",
    "    row_json[\"index\"] = index\n",
    "    data = json.dumps(row_json, default=str).encode('utf-8')\n",
    "    producer.produce(topic=TOPIC, value=data)\n",
    "    sleep(0.01)\n",
    "    \n",
    "producer.flush()"
   ]
  },
  {
   "cell_type": "code",
   "execution_count": null,
   "id": "a93e20e3",
   "metadata": {},
   "outputs": [],
   "source": []
  }
 ],
 "metadata": {
  "kernelspec": {
   "display_name": "Python 3 (ipykernel)",
   "language": "python",
   "name": "python3"
  },
  "language_info": {
   "codemirror_mode": {
    "name": "ipython",
    "version": 3
   },
   "file_extension": ".py",
   "mimetype": "text/x-python",
   "name": "python",
   "nbconvert_exporter": "python",
   "pygments_lexer": "ipython3",
   "version": "3.11.5"
  }
 },
 "nbformat": 4,
 "nbformat_minor": 5
}
